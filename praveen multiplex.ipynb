{
 "cells": [
  {
   "cell_type": "code",
   "execution_count": null,
   "id": "7bdecff6-f786-43c9-ae5b-ee3d1f43587c",
   "metadata": {},
   "outputs": [
    {
     "name": "stdout",
     "output_type": "stream",
     "text": [
      "PRAVEEN MULTIPLEX WELCOMES YOU\n"
     ]
    },
    {
     "name": "stdin",
     "output_type": "stream",
     "text": [
      "Enter Customer Name: bsdjzhfb\n",
      "Enter Customer Mobile Number: 54345\n"
     ]
    },
    {
     "name": "stdout",
     "output_type": "stream",
     "text": [
      " choose\n",
      "         classic = 150\n",
      "         Prime = 220\n",
      "         Recliner = 300\n"
     ]
    },
    {
     "name": "stdin",
     "output_type": "stream",
     "text": [
      "enter your choice prime\n",
      "enter number of seats to be booked 100\n"
     ]
    },
    {
     "name": "stdout",
     "output_type": "stream",
     "text": [
      "220\n",
      "22000\n",
      "0\n",
      "0\n",
      "100\n",
      "seats left\n"
     ]
    },
    {
     "name": "stdin",
     "output_type": "stream",
     "text": [
      "do you want to add more? (yes/no): yes\n"
     ]
    },
    {
     "name": "stdout",
     "output_type": "stream",
     "text": [
      " choose\n",
      "         classic = 150\n",
      "         Prime = 220\n",
      "         Recliner = 300\n"
     ]
    },
    {
     "name": "stdin",
     "output_type": "stream",
     "text": [
      "enter your choice classic\n"
     ]
    }
   ],
   "source": [
    "\n",
    "        \n",
    "total_seats = 200\n",
    "classic_seat = 60\n",
    "prime_seat = 100\n",
    "recliner_seat = 40\n",
    "seats_left = 0\n",
    "    \n",
    "while True:\n",
    "    print(\"PRAVEEN MULTIPLEX WELCOMES YOU\")\n",
    "    name = input(\"Enter Customer Name:\")\n",
    "    mobile_no = int(input(\"Enter Customer Mobile Number:\"))\n",
    "    seat_type_classic = \"Classic\"\n",
    "    seat_type_prime = \"Prime\"\n",
    "    seat_type_recliner = \"Recliner\"\n",
    "    total = 0\n",
    "\n",
    "    while True:\n",
    "        print(\"\"\" choose\n",
    "         classic = 150\n",
    "         Prime = 220\n",
    "         Recliner = 300\"\"\")\n",
    "        choice = input(\"enter your choice\")\n",
    "        \n",
    "        if choice == \"classic\":\n",
    "            amount = 150\n",
    "            quantity = int(input(\"enter number of seats to be booked\"))\n",
    "            if quantity <= classic_seat:\n",
    "                print(amount)\n",
    "            elif quantity > classic_seat:\n",
    "                print(\"Sorry, only  prime and recliner seats available\")\n",
    "                continue\n",
    "                \n",
    "            total += quantity*amount\n",
    "            print(total)\n",
    "\n",
    "            classic_seat = classic_seat - quantity\n",
    "            print(classic_seat)\n",
    "            print(classic_seat)\n",
    "            total_seats = total_seats - quantity\n",
    "            print(total_seats) \n",
    "            print(\"seats left\")\n",
    "            \n",
    "            \n",
    "        elif choice == \"prime\":\n",
    "            amount = 220\n",
    "            quantity = int(input(\"enter number of seats to be booked\"))\n",
    "            \n",
    "            if quantity <= prime_seat:\n",
    "                print(amount)\n",
    "            elif quantity > prime_seat:\n",
    "                print(\"Sorry, only  classic and recliner seats available\")\n",
    "                continue\n",
    "                \n",
    "            total += quantity*amount\n",
    "            print(total)\n",
    "            prime_seat = prime_seat - quantity\n",
    "            print(prime_seat)\n",
    "            print(prime_seat)\n",
    "            total_seats = total_seats - quantity\n",
    "            print(total_seats)\n",
    "            print(\"seats left\")\n",
    "\n",
    "        elif choice == \"recliner\":\n",
    "            amount = 300\n",
    "            quantity = int(input(\"enter number of seats to be booked\"))\n",
    "            \n",
    "            if quantity <= recliner_seat:\n",
    "                print(amount)\n",
    "            elif quantity > recliner_seat:\n",
    "                print(\"Sorry, only  classic and prime seats available\")\n",
    "                continue\n",
    "                \n",
    "            total += quantity*amount\n",
    "            print(total)\n",
    "            recliner_seat = recliner_seat - quantity\n",
    "            print(recliner_seat)\n",
    "            print(recliner_seat)\n",
    "            total_seats = total_seats - quantity\n",
    "            print(total_seats)\n",
    "            print(\"seats left\")\n",
    "\n",
    "\n",
    "    \n",
    "        if total_seats <= 0:\n",
    "            print(\"Sorry, The show is Full\")      \n",
    "            \n",
    "        repeat = input(\"do you want to add more? (yes/no):\")\n",
    "        if repeat == \"no\":\n",
    "            break\n",
    "            \n",
    "            \n",
    "    print(\"-\"*30)\n",
    "    print(\"customer's name\", name)\n",
    "    print(\"customer's mobile number\", mobile_no )\n",
    "    print(\"total amount\", total)\n",
    "    print(\"seat type\", choice)\n",
    "    \n",
    "    print(\"-\"*30)\n",
    "    print(\"\"\"Booking confirmed 🤩\n",
    "          Thank you😊\"\"\")\n",
    "   \n",
    "\n",
    "\n",
    "    \n",
    "    repeat_cus = input(\"next customer?\" )\n",
    "         \n",
    "    if repeat_cus == \"no\":\n",
    "        break\n",
    " \n",
    " "
   ]
  },
  {
   "cell_type": "code",
   "execution_count": null,
   "id": "839565a9-1d8e-4a99-be81-fbcbf7a118d8",
   "metadata": {},
   "outputs": [],
   "source": []
  },
  {
   "cell_type": "code",
   "execution_count": null,
   "id": "e7c3c42a-3ebb-4fdf-a852-f92f81aaea62",
   "metadata": {},
   "outputs": [],
   "source": []
  },
  {
   "cell_type": "code",
   "execution_count": null,
   "id": "5b62f47a-b5c7-4998-b4c2-93de0cf2262f",
   "metadata": {},
   "outputs": [],
   "source": []
  }
 ],
 "metadata": {
  "kernelspec": {
   "display_name": "Python 3 (ipykernel)",
   "language": "python",
   "name": "python3"
  },
  "language_info": {
   "codemirror_mode": {
    "name": "ipython",
    "version": 3
   },
   "file_extension": ".py",
   "mimetype": "text/x-python",
   "name": "python",
   "nbconvert_exporter": "python",
   "pygments_lexer": "ipython3",
   "version": "3.11.5"
  }
 },
 "nbformat": 4,
 "nbformat_minor": 5
}
